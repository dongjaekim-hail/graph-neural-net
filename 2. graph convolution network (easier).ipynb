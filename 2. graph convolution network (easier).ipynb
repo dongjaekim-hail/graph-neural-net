{
 "cells": [
  {
   "cell_type": "code",
   "execution_count": 6,
   "outputs": [],
   "source": [
    "import torch\n",
    "from torch_geometric.utils import add_self_loops\n",
    "import torch.nn.functional as F"
   ],
   "metadata": {
    "collapsed": false
   }
  },
  {
   "cell_type": "code",
   "execution_count": 7,
   "outputs": [],
   "source": [
    "import torch\n",
    "from torch.nn import Linear, Parameter\n",
    "from torch_geometric.nn import MessagePassing\n",
    "from torch_geometric.utils import add_self_loops, degree\n",
    "\n",
    "class GCNConv(MessagePassing):\n",
    "    def __init__(self, in_channels, out_channels):\n",
    "        super().__init__(aggr='add')  # \"Add\" aggregation (Step 5).\n",
    "        self.lin = Linear(in_channels, out_channels, bias=False)\n",
    "        self.bias = Parameter(torch.Tensor(out_channels))\n",
    "\n",
    "        self.reset_parameters()\n",
    "\n",
    "    def reset_parameters(self):\n",
    "        self.lin.reset_parameters()\n",
    "        self.bias.data.zero_()\n",
    "\n",
    "    def forward(self, x, edge_index):\n",
    "        # x has shape [N, in_channels]\n",
    "        # edge_index has shape [2, E]\n",
    "\n",
    "        # Step 1: Add self-loops to the adjacency matrix.\n",
    "        edge_index, _ = add_self_loops(edge_index, num_nodes=x.size(0))\n",
    "\n",
    "        # Step 2: Linearly transform node feature matrix.\n",
    "        x = self.lin(x)\n",
    "\n",
    "        # Step 3: Compute normalization.\n",
    "        row, col = edge_index\n",
    "        deg = degree(col, x.size(0), dtype=x.dtype)\n",
    "        deg_inv_sqrt = deg.pow(-0.5)\n",
    "        deg_inv_sqrt[deg_inv_sqrt == float('inf')] = 0\n",
    "        norm = deg_inv_sqrt[row] * deg_inv_sqrt[col]\n",
    "\n",
    "        # Step 4-5: Start propagating messages.\n",
    "        out = self.propagate(edge_index, x=x, norm=norm)\n",
    "        # 이걸하면 message랑 aggregate가 내부적으로 돌아가도록 되어있다.\n",
    "        # 물론 aggregator는 그냥저냥 정의된대로 연산만 하면되는 거라서 아래 def message의 인풋과 적절하게 연결된 상태로정의만 되면 된다\n",
    "\n",
    "\n",
    "        # Step 6: Apply a final bias vector.\n",
    "        out += self.bias\n",
    "\n",
    "        return out\n",
    "\n",
    "    def message(self, x_j, norm):\n",
    "        # x_j has shape [E, out_channels]\n",
    "\n",
    "        # Step 4: Normalize node features.\n",
    "        return norm.view(-1, 1) * x_j"
   ],
   "metadata": {
    "collapsed": false
   }
  },
  {
   "cell_type": "markdown",
   "source": [
    "잠깐만... add_self_loops가 뭘하는건지 모르겠어서 한번 찍어봤다."
   ],
   "metadata": {
    "collapsed": false
   }
  },
  {
   "cell_type": "markdown",
   "source": [
    "```\n",
    "add_self_loops\n",
    "(edge_index: Tensor, edge_attr: Optional[Tensor] = None,\n",
    "fill_value: Optional[Union[float, Tensor, str]] = None,\n",
    " num_nodes: Optional[Union[int, Tuple[int, int]]] = None)→ Tuple[Tensor, Optional[Tensor]][source]\n",
    "```\n",
    "Adds a self-loop $(i,i)$ to every node $i \\in \\mathcal{V}$ in the graph given by edge_index.\n",
    "In case the graph is weighted or has multi-dimensional edge features `(edge_attr != None)`, edge features of self-loops will be added according to fill_value.\n",
    "\n",
    "PARAMETERS\n",
    "\n",
    "- edge_index (LongTensor) – The edge indices.\n",
    "- edge_attr (Tensor, optional) – Edge weights or multi-dimensional edge features. (default: None)\n",
    "- fill_value (float or Tensor or str, optional) – The way to generate edge features of self-loops (in case edge_attr != None). If given as float or torch.Tensor, edge features of self-loops will be directly given by fill_value. If given as str, edge features of self-loops are computed by aggregating all features of edges that point to the specific node, according to a reduce operation. (\"add\", \"mean\", \"min\", \"max\", \"mul\"). (default: 1.)\n",
    "- num_nodes (int or Tuple[int, int], optional) – The number of nodes, i.e. max_val + 1 of edge_index. If given as a tuple, then edge_index is interpreted as a bipartite graph with shape (num_src_nodes, num_dst_nodes). (default: None)\n",
    "\n",
    "RETURN TYPE\n",
    "`(LongTensor, Tensor)`"
   ],
   "metadata": {
    "collapsed": false
   }
  },
  {
   "cell_type": "code",
   "execution_count": 8,
   "outputs": [
    {
     "name": "stdout",
     "output_type": "stream",
     "text": [
      "(tensor([[0, 1, 0, 0, 1],\n",
      "        [1, 0, 0, 0, 1]]), None)\n"
     ]
    }
   ],
   "source": [
    "edge_index = torch.tensor([[0, 1, 0],\n",
    "...                        [1, 0, 0]])\n",
    "edge_weight = torch.tensor([0.5, 0.5, 0.5])\n",
    "\n",
    "print(add_self_loops(edge_index))\n"
   ],
   "metadata": {
    "collapsed": false
   }
  },
  {
   "cell_type": "markdown",
   "source": [
    "즉 원래는 지들끼리 연결된거에 대한 정보가 생략된 녀석들도 있고, 아예 없는 녀석들도 있는데, 업데이트를 위해서는 self_loop이 필요하니까 그걸 더해주겠다는 뜻."
   ],
   "metadata": {
    "collapsed": false
   }
  },
  {
   "cell_type": "markdown",
   "source": [
    "오케이. 그럼 이제 실제로 GCNConv를 implement해보자.\n",
    "\n",
    "대충 아래처럼 하면 레이어 하나에 대한 연산이 될거로 생각할 수 있다\n",
    "\n"
   ],
   "metadata": {
    "collapsed": false
   }
  },
  {
   "cell_type": "markdown",
   "source": [
    "load data"
   ],
   "metadata": {
    "collapsed": false
   }
  },
  {
   "cell_type": "code",
   "execution_count": 11,
   "outputs": [],
   "source": [
    "from torch_geometric.datasets import Planetoid"
   ],
   "metadata": {
    "collapsed": false
   }
  },
  {
   "cell_type": "code",
   "execution_count": 12,
   "outputs": [],
   "source": [
    "dataset = Planetoid(root=\"tutorial1\",name= \"Cora\")"
   ],
   "metadata": {
    "collapsed": false
   }
  },
  {
   "cell_type": "code",
   "execution_count": 35,
   "outputs": [],
   "source": [
    "class GNN(torch.nn.Module):\n",
    "    def __init__(self, n_features, n_classes):\n",
    "        super().__init__()\n",
    "        self.conv1 = GCNConv(n_features, n_features)\n",
    "        self.conv2 = GCNConv(n_features, n_features)\n",
    "        self.linear = Linear(n_features, n_classes)\n",
    "\n",
    "    def forward(self, x, edge_index):\n",
    "        x = self.conv1(x, edge_index).relu()\n",
    "        x = self.conv2(x, edge_index).relu()\n",
    "        x = self.linear(x)\n",
    "        return F.log_softmax(x, dim=1)\n"
   ],
   "metadata": {
    "collapsed": false
   }
  },
  {
   "cell_type": "code",
   "execution_count": 36,
   "outputs": [],
   "source": [
    "data = dataset[0].to('cpu') # 구조상 이렇게 가져와야하는 그래프\n",
    "# 모델 가져오고\n",
    "model=GNN(dataset.num_features, dataset.num_classes).to('cpu')\n",
    "optimizer=torch.optim.Adam(model.parameters(), lr=0.01, weight_decay=5e-4)\n"
   ],
   "metadata": {
    "collapsed": false
   }
  },
  {
   "cell_type": "code",
   "execution_count": 37,
   "outputs": [
    {
     "data": {
      "text/plain": "tensor([[   0,    0,    0,  ..., 2707, 2707, 2707],\n        [ 633, 1862, 2582,  ...,  598, 1473, 2706]])"
     },
     "execution_count": 37,
     "metadata": {},
     "output_type": "execute_result"
    }
   ],
   "source": [
    "data.edge_index"
   ],
   "metadata": {
    "collapsed": false
   }
  },
  {
   "cell_type": "code",
   "execution_count": 47,
   "outputs": [],
   "source": [
    "def train():\n",
    "    model.train()\n",
    "    optimizer.zero_grad()\n",
    "    F.nll_loss(model(x=data.x, edge_index=data.edge_index)[data.train_mask], data.y[data.train_mask]).backward()\n",
    "    optimizer.step()\n",
    "\n",
    "\n",
    "def test():\n",
    "    model.eval()\n",
    "    logits, accs = model(x=data.x, edge_index=data.edge_index), []\n",
    "    for _, mask in data('train_mask', 'val_mask', 'test_mask'):\n",
    "        pred = logits[mask].max(1)[1]\n",
    "        acc = pred.eq(data.y[mask]).sum().item() / mask.sum().item()\n",
    "        accs.append(acc)\n",
    "    return accs"
   ],
   "metadata": {
    "collapsed": false
   }
  },
  {
   "cell_type": "code",
   "execution_count": 48,
   "outputs": [
    {
     "name": "stdout",
     "output_type": "stream",
     "text": [
      "Epoch: 010, Val: 0.7780, Test: 0.7870\n",
      "Epoch: 020, Val: 0.7780, Test: 0.7870\n",
      "Epoch: 030, Val: 0.7800, Test: 0.8010\n",
      "Epoch: 040, Val: 0.7840, Test: 0.8010\n",
      "Epoch: 050, Val: 0.7920, Test: 0.8080\n",
      "Epoch: 060, Val: 0.7920, Test: 0.8080\n",
      "Epoch: 070, Val: 0.7920, Test: 0.8080\n",
      "Epoch: 080, Val: 0.7920, Test: 0.8080\n",
      "Epoch: 090, Val: 0.7920, Test: 0.8080\n"
     ]
    }
   ],
   "source": [
    "best_val_acc = test_acc = 0\n",
    "for epoch in range(1,100):\n",
    "    train()\n",
    "    _, val_acc, tmp_test_acc = test()\n",
    "    if val_acc > best_val_acc:\n",
    "        best_val_acc = val_acc\n",
    "        test_acc = tmp_test_acc\n",
    "    log = 'Epoch: {:03d}, Val: {:.4f}, Test: {:.4f}'\n",
    "\n",
    "    if epoch % 10 == 0:\n",
    "        print(log.format(epoch, best_val_acc, test_acc))"
   ],
   "metadata": {
    "collapsed": false
   }
  },
  {
   "cell_type": "markdown",
   "source": [
    "## 실제로 더 간단하게 해봅시다"
   ],
   "metadata": {
    "collapsed": false
   }
  },
  {
   "cell_type": "markdown",
   "source": [
    "저도 이게 layer 연산 한번 하는게 어떻게 되는건지 확실히 알지를 못하겠어서"
   ],
   "metadata": {
    "collapsed": false
   }
  },
  {
   "cell_type": "markdown",
   "source": [
    "그럼 아래와 같이 구성된다."
   ],
   "metadata": {
    "collapsed": false
   }
  },
  {
   "cell_type": "code",
   "execution_count": 52,
   "outputs": [],
   "source": [
    "import networkx as nx\n",
    "from torch_geometric.utils.convert import from_networkx"
   ],
   "metadata": {
    "collapsed": false
   }
  },
  {
   "cell_type": "code",
   "execution_count": 97,
   "outputs": [
    {
     "data": {
      "text/plain": "<Figure size 640x480 with 1 Axes>",
      "image/png": "[encoded data removed]"
     },
     "metadata": {},
     "output_type": "display_data"
    }
   ],
   "source": [
    "# Make the networkx graph\n",
    "G = nx.Graph()\n",
    "# Add some cars (just do 4 for now)\n",
    "G.add_nodes_from([\n",
    "      (1, {'y': 1, 'x': [0.5]}),\n",
    "      (2, {'y': 2, 'x': [0]}),\n",
    "      (3, {'y': 3, 'x': [0]}),\n",
    "      (4, {'y': 4, 'x': [0.5]}),\n",
    "      (5, {'y': 5, 'x': [0]})\n",
    "])\n",
    "# Add some edges\n",
    "G.add_edges_from([(1,2),(2,1),(1,3),(3,1),(2,3),(3,2),(2,4),(4,2),(3,4),(4,3), (5,2), (2,5), (5,3), (3,5)])\n",
    "nx.draw(G, with_labels=True)\n",
    "\n"
   ],
   "metadata": {
    "collapsed": false
   }
  },
  {
   "cell_type": "code",
   "execution_count": 98,
   "outputs": [
    {
     "name": "stdout",
     "output_type": "stream",
     "text": [
      "Data(x=[5, 1], edge_index=[2, 14], y=[5])\n",
      "tensor([[0.5000],\n",
      "        [0.0000],\n",
      "        [0.0000],\n",
      "        [0.5000],\n",
      "        [0.0000]])\n",
      "tensor([1, 2, 3, 4, 5])\n",
      "tensor([[0, 0, 1, 1, 1, 1, 2, 2, 2, 2, 3, 3, 4, 4],\n",
      "        [1, 2, 0, 2, 3, 4, 0, 1, 3, 4, 1, 2, 1, 2]])\n"
     ]
    }
   ],
   "source": [
    "# Convert the graph into PyTorch geometric\n",
    "pyg_graph = from_networkx(G)\n",
    "\n",
    "print(pyg_graph)\n",
    "# Data(edge_index=[2, 12], x=[5], y=[5])\n",
    "print(pyg_graph.x)\n",
    "# tensor([0.5000, 0.2000, 0.3000, 0.1000, 0.2000])\n",
    "print(pyg_graph.y)\n",
    "# tensor([1, 2, 3, 4, 5])\n",
    "print(pyg_graph.edge_index)\n",
    "# tensor([[0, 0, 0, 1, 1, 1, 2, 2, 3, 3, 4, 4],\n",
    "#         [1, 3, 4, 0, 2, 3, 1, 4, 0, 1, 0, 2]])\n"
   ],
   "metadata": {
    "collapsed": false
   }
  },
  {
   "cell_type": "code",
   "execution_count": 99,
   "outputs": [
    {
     "data": {
      "text/plain": "tensor([[0.5000],\n        [0.0000],\n        [0.0000],\n        [0.5000],\n        [0.0000]])"
     },
     "execution_count": 99,
     "metadata": {},
     "output_type": "execute_result"
    }
   ],
   "source": [
    "pyg_graph.x"
   ],
   "metadata": {
    "collapsed": false
   }
  },
  {
   "cell_type": "code",
   "execution_count": 100,
   "outputs": [],
   "source": [
    "pyg_graph_1 =GCNConv(pyg_graph.num_features, pyg_graph.num_features)(pyg_graph.x, pyg_graph.edge_index)"
   ],
   "metadata": {
    "collapsed": false
   }
  },
  {
   "cell_type": "code",
   "execution_count": 101,
   "outputs": [
    {
     "name": "stdout",
     "output_type": "stream",
     "text": [
      "tensor([[0.0209],\n",
      "        [0.0324],\n",
      "        [0.0324],\n",
      "        [0.0209],\n",
      "        [0.0000]], grad_fn=<AddBackward0>)\n"
     ]
    }
   ],
   "source": [
    "print(pyg_graph_1)"
   ],
   "metadata": {
    "collapsed": false
   }
  },
  {
   "cell_type": "code",
   "execution_count": 102,
   "outputs": [],
   "source": [
    "pyg_graph_2 =GCNConv(pyg_graph.num_features, pyg_graph.num_features)(pyg_graph_1, pyg_graph.edge_index)"
   ],
   "metadata": {
    "collapsed": false
   }
  },
  {
   "cell_type": "code",
   "execution_count": 103,
   "outputs": [
    {
     "name": "stdout",
     "output_type": "stream",
     "text": [
      "tensor([[0.0144],\n",
      "        [0.0144],\n",
      "        [0.0144],\n",
      "        [0.0144],\n",
      "        [0.0101]], grad_fn=<AddBackward0>)\n"
     ]
    }
   ],
   "source": [
    "print(pyg_graph_2)"
   ],
   "metadata": {
    "collapsed": false
   }
  },
  {
   "cell_type": "markdown",
   "source": [
    "여기 보면 이제야 5번에 어떤 값이 들어온다. 왜? depth=2 가 되었기 때문에 드디어 0이 아닌 정보들이 들어왔기 때문에."
   ],
   "metadata": {
    "collapsed": false
   }
  },
  {
   "cell_type": "markdown",
   "source": [
    "*그렇다면 이게 local 정보만 업데이트하는 방식을로도 쓰일 수 있을까?*"
   ],
   "metadata": {
    "collapsed": false
   }
  },
  {
   "cell_type": "code",
   "execution_count": 109,
   "outputs": [
    {
     "name": "stdout",
     "output_type": "stream",
     "text": [
      "tensor([[1, 2, 4, 4],\n",
      "        [4, 4, 1, 2]], dtype=torch.int16)\n"
     ]
    }
   ],
   "source": [
    "edge_partial = torch.Tensor([[1,2,4,4],[4,4,1,2]])\n",
    "# and make edge_partial as int16\n",
    "edge_partial = edge_partial.type(torch.int16)\n",
    "print(edge_partial)"
   ],
   "metadata": {
    "collapsed": false
   }
  },
  {
   "cell_type": "code",
   "execution_count": 110,
   "outputs": [],
   "source": [
    "pyg_graph_1 =GCNConv(pyg_graph.num_features, pyg_graph.num_features)(pyg_graph.x, edge_partial)"
   ],
   "metadata": {
    "collapsed": false
   }
  },
  {
   "cell_type": "code",
   "execution_count": 111,
   "outputs": [
    {
     "name": "stdout",
     "output_type": "stream",
     "text": [
      "tensor([[-0.4969],\n",
      "        [ 0.0000],\n",
      "        [ 0.0000],\n",
      "        [-0.4969],\n",
      "        [ 0.0000]], grad_fn=<AddBackward0>)\n"
     ]
    }
   ],
   "source": [
    "print(pyg_graph_1)"
   ],
   "metadata": {
    "collapsed": false
   }
  },
  {
   "cell_type": "code",
   "execution_count": 115,
   "outputs": [],
   "source": [
    "pyg_graph_2 =GCNConv(pyg_graph.num_features, pyg_graph.num_features)(pyg_graph_1, edge_partial)"
   ],
   "metadata": {
    "collapsed": false
   }
  },
  {
   "cell_type": "code",
   "execution_count": 116,
   "outputs": [
    {
     "name": "stdout",
     "output_type": "stream",
     "text": [
      "tensor([[0.2976],\n",
      "        [0.0000],\n",
      "        [0.0000],\n",
      "        [0.2976],\n",
      "        [0.0000]], grad_fn=<AddBackward0>)\n"
     ]
    }
   ],
   "source": [
    "print(pyg_graph_2)"
   ],
   "metadata": {
    "collapsed": false
   }
  },
  {
   "cell_type": "code",
   "execution_count": 118,
   "outputs": [],
   "source": [
    "pyg_graph_3 =GCNConv(pyg_graph.num_features, pyg_graph.num_features)(pyg_graph_2, pyg_graph.edge_index)"
   ],
   "metadata": {
    "collapsed": false
   }
  },
  {
   "cell_type": "code",
   "execution_count": 119,
   "outputs": [
    {
     "name": "stdout",
     "output_type": "stream",
     "text": [
      "tensor([[0.0709],\n",
      "        [0.1098],\n",
      "        [0.1098],\n",
      "        [0.0709],\n",
      "        [0.0000]], grad_fn=<AddBackward0>)\n"
     ]
    }
   ],
   "source": [
    "print(pyg_graph_3)"
   ],
   "metadata": {
    "collapsed": false
   }
  },
  {
   "cell_type": "markdown",
   "source": [
    "이런식으로 하면 업데이트가 안되는 것을 볼 수 있습니다~"
   ],
   "metadata": {
    "collapsed": false
   }
  }
 ],
 "metadata": {
  "kernelspec": {
   "display_name": "Python 3",
   "language": "python",
   "name": "python3"
  },
  "language_info": {
   "codemirror_mode": {
    "name": "ipython",
    "version": 2
   },
   "file_extension": ".py",
   "mimetype": "text/x-python",
   "name": "python",
   "nbconvert_exporter": "python",
   "pygments_lexer": "ipython2",
   "version": "2.7.6"
  }
 },
 "nbformat": 4,
 "nbformat_minor": 0
}
