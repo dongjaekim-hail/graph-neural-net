{
 "cells": [
  {
   "cell_type": "markdown",
   "metadata": {
    "id": "37waMNWCzfn7"
   },
   "source": [
    "# Tutorial3: GAT implementation"
   ]
  },
  {
   "cell_type": "markdown",
   "metadata": {
    "id": "j4D5WGOUzfn8"
   },
   "source": [
    "## Outline"
   ]
  },
  {
   "cell_type": "markdown",
   "metadata": {
    "id": "p3KkEmm0zfn8"
   },
   "source": [
    "- Implementation of GAT"
   ]
  },
  {
   "cell_type": "markdown",
   "metadata": {
    "id": "gxUVzMEtzfn8"
   },
   "source": [
    "Official resources:\n",
    "* [Code](https://dsgiitr.com/blogs/gat/)"
   ]
  },
  {
   "cell_type": "code",
   "execution_count": 1,
   "metadata": {
    "id": "cqPWf71Ozfn9",
    "outputId": "00f3b3c5-8514-460a-f545-714a3cca1434"
   },
   "outputs": [
    {
     "name": "stdout",
     "output_type": "stream",
     "text": [
      "2.0.0\n"
     ]
    }
   ],
   "source": [
    "import os\n",
    "import torch\n",
    "os.environ['TORCH'] = torch.__version__\n",
    "print(torch.__version__)\n",
    "\n",
    "!pip install -q torch-scatter -f https://data.pyg.org/whl/torch-${TORCH}.html\n",
    "!pip install -q torch-sparse -f https://data.pyg.org/whl/torch-${TORCH}.html\n",
    "!pip install -q git+https://github.com/pyg-team/pytorch_geometric.git"
   ]
  },
  {
   "cell_type": "code",
   "execution_count": 2,
   "metadata": {
    "id": "7VtVu1jkzfn9"
   },
   "outputs": [],
   "source": [
    "import numpy as np\n",
    "import torch\n",
    "import torch.nn as nn\n",
    "import torch.nn.functional as F"
   ]
  },
  {
   "cell_type": "markdown",
   "metadata": {
    "id": "E3Q3rR3Zzfn-"
   },
   "source": [
    "## Structure"
   ]
  },
  {
   "cell_type": "markdown",
   "source": [
    "여기 나와 있는 구조를 채우는 방식으로 진행할거고, 여기 나와있는건 그냥 실제로 어떻게 구성되는지를 보여주는거고 더빠르게 잘돌리기 위한것들은 pytorch_geometric에 이미 implementation되어있으니 그걸 쓰면 된다."
   ],
   "metadata": {
    "collapsed": false
   }
  },
  {
   "cell_type": "code",
   "execution_count": 3,
   "metadata": {
    "id": "OP801SXxzfn-"
   },
   "outputs": [],
   "source": [
    "class GATLayer(nn.Module):\n",
    "    \"\"\"\n",
    "    Simple PyTorch Implementation of the Graph Attention layer.\n",
    "    \"\"\"\n",
    "    def __init__(self):\n",
    "        super(GATLayer, self).__init__()\n",
    "      \n",
    "    def forward(self, input, aj):\n",
    "        print(\"\")"
   ]
  },
  {
   "cell_type": "markdown",
   "metadata": {
    "id": "QcPH2tm6zfn-"
   },
   "source": [
    "## Let's start from the forward method"
   ]
  },
  {
   "cell_type": "markdown",
   "metadata": {
    "id": "-nHJwkogzfn-"
   },
   "source": [
    "### Linear Transformation\n",
    "\n",
    "$$\n",
    "\\bar{h'}_i = \\textbf{W}\\cdot \\bar{h}_i\n",
    "$$\n",
    "with $\\textbf{W}\\in\\mathbb R^{F'\\times F}$ and $\\bar{h}_i\\in\\mathbb R^{F}$.\n",
    "\n",
    "$$\n",
    "\\bar{h'}_i \\in \\mathbb{R}^{F'}\n",
    "$$"
   ]
  },
  {
   "cell_type": "markdown",
   "source": [
    "다시말해서 이렇게 새롭게 정의된 녀석을 만들겠다. 노드 피쳐들은 차원이 달라질수도 있다~"
   ],
   "metadata": {
    "collapsed": false
   }
  },
  {
   "cell_type": "code",
   "execution_count": 4,
   "metadata": {
    "id": "0fTVaz8pzfn-",
    "outputId": "a16976da-0323-483e-c3da-995aef617ac9"
   },
   "outputs": [
    {
     "name": "stdout",
     "output_type": "stream",
     "text": [
      "torch.Size([3, 2])\n"
     ]
    }
   ],
   "source": [
    "in_features = 5\n",
    "out_features = 2\n",
    "# 각각의 노드로부터 5개의 feature를 받아다가 output으로는 2개의 feature를 내보낼거다.\n",
    "\n",
    "nb_nodes = 3\n",
    "\n",
    "W = nn.Parameter(torch.zeros(size=(in_features, out_features))) #xavier paramiter inizializator\n",
    "nn.init.xavier_uniform_(W.data, gain=1.414) # 초기화하는 방법입니다.\n",
    "\n",
    "input = torch.rand(nb_nodes,in_features) # 노드의 feature를 랜덤하게 만들어줍니다. (노드 갯수, 피쳐 갯수)\n",
    "\n",
    "# linear transformation\n",
    "h = torch.mm(input, W) # matrix multiplication\n",
    "N = h.size()[0]\n",
    "\n",
    "print(h.shape)"
   ]
  },
  {
   "cell_type": "markdown",
   "metadata": {
    "id": "2F3021Wxzfn_"
   },
   "source": [
    "### Attention Mechanism\n",
    "앞쪽에 matrix multiplication 쪽은 했고\n",
    "이제 attention mechanism을 구현해보자"
   ]
  },
  {
   "cell_type": "markdown",
   "metadata": {
    "id": "5Zy-ZGdKzfn_"
   },
   "source": [
    "![title](https://github.com/AntonioLonga/PytorchGeometricTutorial/blob/main/Tutorial3/AttentionMechanism.png?raw=1)"
   ]
  },
  {
   "cell_type": "code",
   "execution_count": 19,
   "metadata": {
    "id": "eaZHtEyHzfn_",
    "outputId": "33ed6a85-c2da-40c2-b9dc-92db9fd58ca4"
   },
   "outputs": [
    {
     "name": "stdout",
     "output_type": "stream",
     "text": [
      "torch.Size([4, 1])\n"
     ]
    }
   ],
   "source": [
    "a = nn.Parameter(torch.zeros(size=(2*out_features, 1))) #xavier paramiter inizializator\n",
    "# 사이즈가 2F'이니까 2를 곱해준거\n",
    "nn.init.xavier_uniform_(a.data, gain=1.414)\n",
    "# 그래서 a.shape을 찍어보면 4가 나온다. out_features가 2니까\n",
    "print(a.shape)\n",
    "\n",
    "leakyrelu = nn.LeakyReLU(0.2)  # LeakyReLU"
   ]
  },
  {
   "cell_type": "code",
   "execution_count": 20,
   "outputs": [
    {
     "name": "stdout",
     "output_type": "stream",
     "text": [
      "3\n",
      "tensor([[-0.4248,  1.0535],\n",
      "        [-0.9987,  1.5516],\n",
      "        [-0.6570,  0.9492]], grad_fn=<MmBackward0>)\n",
      "tensor([[-0.4248,  1.0535, -0.4248,  1.0535, -0.4248,  1.0535],\n",
      "        [-0.9987,  1.5516, -0.9987,  1.5516, -0.9987,  1.5516],\n",
      "        [-0.6570,  0.9492, -0.6570,  0.9492, -0.6570,  0.9492]],\n",
      "       grad_fn=<RepeatBackward0>)\n",
      "tensor([[-0.4248,  1.0535],\n",
      "        [-0.4248,  1.0535],\n",
      "        [-0.4248,  1.0535],\n",
      "        [-0.9987,  1.5516],\n",
      "        [-0.9987,  1.5516],\n",
      "        [-0.9987,  1.5516],\n",
      "        [-0.6570,  0.9492],\n",
      "        [-0.6570,  0.9492],\n",
      "        [-0.6570,  0.9492]], grad_fn=<ViewBackward0>)\n"
     ]
    }
   ],
   "source": [
    "print(N)\n",
    "print(h) # torch.Size([3, 2])\n",
    "print(h.repeat(1,N)) # 이런식으로 1행 N열로, 옆으로 붙이는 방법이 repeat.\n",
    "print(h.repeat(1,N).view(N*N,-1)) # 이런식으로 view를 이용해서 reshape을 통해서 위아래로 붙일 수 있다."
   ],
   "metadata": {
    "collapsed": false
   }
  },
  {
   "cell_type": "code",
   "execution_count": 21,
   "outputs": [
    {
     "data": {
      "text/plain": "tensor([[-0.4248,  1.0535, -0.4248,  1.0535],\n        [-0.4248,  1.0535, -0.9987,  1.5516],\n        [-0.4248,  1.0535, -0.6570,  0.9492],\n        [-0.9987,  1.5516, -0.4248,  1.0535],\n        [-0.9987,  1.5516, -0.9987,  1.5516],\n        [-0.9987,  1.5516, -0.6570,  0.9492],\n        [-0.6570,  0.9492, -0.4248,  1.0535],\n        [-0.6570,  0.9492, -0.9987,  1.5516],\n        [-0.6570,  0.9492, -0.6570,  0.9492]], grad_fn=<CatBackward0>)"
     },
     "execution_count": 21,
     "metadata": {},
     "output_type": "execute_result"
    }
   ],
   "source": [
    "torch.cat([h.repeat(1, N).view(N * N, -1), h.repeat(N, 1)], dim=1) # N행 1열로 갖다 붙인녀석과 concat"
   ],
   "metadata": {
    "collapsed": false
   }
  },
  {
   "cell_type": "code",
   "execution_count": 22,
   "outputs": [],
   "source": [
    "a_input = torch.cat([h.repeat(1, N).view(N * N, -1), h.repeat(N, 1)], dim=1).view(N, -1, 2 * out_features) # 여기 마지막은 각각의 노드별로 나눠서 저장하는 거."
   ],
   "metadata": {
    "collapsed": false
   }
  },
  {
   "cell_type": "markdown",
   "source": [
    "위에서 내부적으로 어떤 일이 일어나고있는지 보면 이 그림이 더 잘 이해가 가겠죠?\n",
    "이런방식으로 모든 노드들끼리의 연결을 찾아줄 수 있다."
   ],
   "metadata": {
    "collapsed": false
   }
  },
  {
   "cell_type": "markdown",
   "metadata": {
    "id": "TjXIQSNIzfn_"
   },
   "source": [
    "![title](https://github.com/AntonioLonga/PytorchGeometricTutorial/blob/main/Tutorial3/a_input.png?raw=1)"
   ]
  },
  {
   "cell_type": "code",
   "execution_count": 23,
   "outputs": [
    {
     "data": {
      "text/plain": "tensor([[-0.4248,  1.0535, -0.4248,  1.0535],\n        [-0.4248,  1.0535, -0.9987,  1.5516],\n        [-0.4248,  1.0535, -0.6570,  0.9492]], grad_fn=<SelectBackward0>)"
     },
     "execution_count": 23,
     "metadata": {},
     "output_type": "execute_result"
    }
   ],
   "source": [
    "a_input[0] # Node 1 에 대한 녀석만 들어있는거 확인 가능."
   ],
   "metadata": {
    "collapsed": false
   }
  },
  {
   "cell_type": "code",
   "execution_count": 29,
   "outputs": [
    {
     "name": "stdout",
     "output_type": "stream",
     "text": [
      "a_input size:  torch.Size([3, 3, 4])\n",
      "a size:  torch.Size([4, 1])\n",
      "tensor([[[-1.8801],\n",
      "         [-1.6921],\n",
      "         [-1.7692]],\n",
      "\n",
      "        [[-3.2911],\n",
      "         [-3.1030],\n",
      "         [-3.1802]],\n",
      "\n",
      "        [[-2.0505],\n",
      "         [-1.8624],\n",
      "         [-1.9396]]], grad_fn=<UnsafeViewBackward0>)\n",
      "torch.Size([3, 3, 1])\n",
      "torch.Size([3, 3])\n"
     ]
    }
   ],
   "source": [
    "# print size of a_input and a with its name\n",
    "print(\"a_input size: \", a_input.size())\n",
    "print(\"a size: \", a.size())\n",
    "print(torch.matmul(a_input, a))\n",
    "print(torch.matmul(a_input, a).size())\n",
    "print(torch.matmul(a_input, a).squeeze(2).size())#  attention 연산 (안쪽의 mm) 을 하면 scalar값이 나오기 때문에 이 차원을 지워줘여한다. 그래서 squeeze(2)를 해준다."
   ],
   "metadata": {
    "collapsed": false
   }
  },
  {
   "cell_type": "code",
   "execution_count": 30,
   "metadata": {
    "id": "VyMflSyIzfn_"
   },
   "outputs": [],
   "source": [
    "e = leakyrelu(torch.matmul(a_input, a).squeeze(2))"
   ]
  },
  {
   "cell_type": "code",
   "execution_count": 33,
   "metadata": {
    "id": "BIWizJiUzfn_",
    "outputId": "ccb248d1-0330-46bc-c089-92b8ece7281d"
   },
   "outputs": [
    {
     "name": "stdout",
     "output_type": "stream",
     "text": [
      "torch.Size([3, 3, 4]) torch.Size([4, 1])\n",
      "\n",
      "torch.Size([3, 3, 1])\n",
      "\n",
      "torch.Size([3, 3])\n",
      "\n",
      "tensor([[-1.8801, -1.6921, -1.7692],\n",
      "        [-3.2911, -3.1030, -3.1802],\n",
      "        [-2.0505, -1.8624, -1.9396]], grad_fn=<SqueezeBackward1>)\n",
      "\n",
      "tensor([[-0.3760, -0.3384, -0.3538],\n",
      "        [-0.6582, -0.6206, -0.6360],\n",
      "        [-0.4101, -0.3725, -0.3879]], grad_fn=<LeakyReluBackward0>)\n"
     ]
    }
   ],
   "source": [
    "print(a_input.shape,a.shape)\n",
    "print(\"\")\n",
    "print(torch.matmul(a_input,a).shape)\n",
    "print(\"\")\n",
    "print(torch.matmul(a_input,a).squeeze(2).shape)\n",
    "print(\"\")\n",
    "print(torch.matmul(a_input,a).squeeze(2))\n",
    "print(\"\")\n",
    "print(e)"
   ]
  },
  {
   "cell_type": "markdown",
   "metadata": {
    "id": "ywKo8ge2zfn_"
   },
   "source": [
    "### Masked Attention"
   ]
  },
  {
   "cell_type": "markdown",
   "source": [
    "위에서는 전체의 노드들에 대해서 하는 방법에 대해서 보여준거지만, 실제로는 masked를 써야지만 우리가 neighboring 노드에서만 할 수 있다.\n",
    "그래서 masked를 써서 할거다"
   ],
   "metadata": {
    "collapsed": false
   }
  },
  {
   "cell_type": "code",
   "execution_count": 37,
   "metadata": {
    "id": "wUKErw8xzfn_",
    "outputId": "45eee0ed-d197-4b2a-a74e-1bca5e7bf719"
   },
   "outputs": [
    {
     "name": "stdout",
     "output_type": "stream",
     "text": [
      "torch.Size([3, 3])\n"
     ]
    }
   ],
   "source": [
    "# Masked Attention\n",
    "adj = torch.randint(2, (3, 3)) # 실제로 우리가 업데이트하고자하는 adjacency matrix... 인데 여기서는 그냥 단순하게 랜덤으로\n",
    "\n",
    "zero_vec  = -9e-15*torch.ones_like(e) # e랑 동일한 사이즈를 갖되 1 로 가득찬 텐서를 만드는게 torch.ones_like(e)\n",
    "# 그리고 -9e15를 곱해줘서 0에 가깝게 만든다.\n",
    "print(zero_vec.shape)"
   ]
  },
  {
   "cell_type": "code",
   "execution_count": 38,
   "outputs": [
    {
     "data": {
      "text/plain": "tensor([[-9.0000e-15, -9.0000e-15, -9.0000e-15],\n        [-9.0000e-15, -9.0000e-15, -9.0000e-15],\n        [-9.0000e-15, -9.0000e-15, -9.0000e-15]])"
     },
     "execution_count": 38,
     "metadata": {},
     "output_type": "execute_result"
    }
   ],
   "source": [
    "zero_vec"
   ],
   "metadata": {
    "collapsed": false
   }
  },
  {
   "cell_type": "code",
   "execution_count": 40,
   "metadata": {
    "id": "hsoKB-epzfn_",
    "outputId": "566e6ebe-dce0-4a62-a3c4-9157e4b3070b"
   },
   "outputs": [
    {
     "name": "stdout",
     "output_type": "stream",
     "text": [
      "tensor([[1, 1, 0],\n",
      "        [0, 0, 1],\n",
      "        [1, 0, 1]]) \n",
      " tensor([[-0.3760, -0.3384, -0.3538],\n",
      "        [-0.6582, -0.6206, -0.6360],\n",
      "        [-0.4101, -0.3725, -0.3879]], grad_fn=<LeakyReluBackward0>) \n",
      " tensor([[-9.0000e-15, -9.0000e-15, -9.0000e-15],\n",
      "        [-9.0000e-15, -9.0000e-15, -9.0000e-15],\n",
      "        [-9.0000e-15, -9.0000e-15, -9.0000e-15]])\n",
      "attention:\n"
     ]
    },
    {
     "data": {
      "text/plain": "tensor([[-3.7602e-01, -3.3841e-01, -9.0000e-15],\n        [-9.0000e-15, -9.0000e-15, -6.3604e-01],\n        [-4.1010e-01, -9.0000e-15, -3.8791e-01]], grad_fn=<WhereBackward0>)"
     },
     "execution_count": 40,
     "metadata": {},
     "output_type": "execute_result"
    }
   ],
   "source": [
    "attention = torch.where(adj > 0, e, zero_vec) # 각각의 element에 대해서 adj가 0보다 크면 e를, 아니면 zero_vec를 넣어준다.\n",
    "\n",
    "print(adj,\"\\n\",e,\"\\n\",zero_vec)\n",
    "print(\"attention:\")\n",
    "attention"
   ]
  },
  {
   "cell_type": "code",
   "execution_count": 43,
   "metadata": {
    "id": "onzWSmTmzfoA"
   },
   "outputs": [],
   "source": [
    "attention = F.softmax(attention, dim=1)\n",
    "h_prime   = torch.matmul(attention, h) # mm써도 동일"
   ]
  },
  {
   "cell_type": "code",
   "execution_count": 44,
   "outputs": [
    {
     "name": "stdout",
     "output_type": "stream",
     "text": [
      "tensor([[-0.6921,  1.1580],\n",
      "        [-0.7003,  1.2286],\n",
      "        [-0.7371,  1.2360]], grad_fn=<MmBackward0>)\n"
     ]
    }
   ],
   "source": [
    "print(h_prime)"
   ],
   "metadata": {
    "collapsed": false
   }
  },
  {
   "cell_type": "code",
   "execution_count": 45,
   "outputs": [
    {
     "data": {
      "text/plain": "tensor([[-0.6921,  1.1580],\n        [-0.7003,  1.2286],\n        [-0.7371,  1.2360]], grad_fn=<MmBackward0>)"
     },
     "execution_count": 45,
     "metadata": {},
     "output_type": "execute_result"
    }
   ],
   "source": [
    "torch.mm(attention,h)"
   ],
   "metadata": {
    "collapsed": false
   }
  },
  {
   "cell_type": "code",
   "execution_count": 46,
   "metadata": {
    "id": "hgQcXr1gzfoA",
    "outputId": "79d3b7c3-6cd0-4fcf-88fa-670d9667ac03"
   },
   "outputs": [
    {
     "data": {
      "text/plain": "tensor([[0.2861, 0.2971, 0.4168],\n        [0.3954, 0.3954, 0.2093],\n        [0.2833, 0.4270, 0.2897]], grad_fn=<SoftmaxBackward0>)"
     },
     "execution_count": 46,
     "metadata": {},
     "output_type": "execute_result"
    }
   ],
   "source": [
    "attention"
   ]
  },
  {
   "cell_type": "code",
   "execution_count": 47,
   "metadata": {
    "id": "75_2K4SxzfoA",
    "outputId": "762d7f2f-300f-4895-b621-63fb7445036f"
   },
   "outputs": [
    {
     "data": {
      "text/plain": "tensor([[-0.6921,  1.1580],\n        [-0.7003,  1.2286],\n        [-0.7371,  1.2360]], grad_fn=<MmBackward0>)"
     },
     "execution_count": 47,
     "metadata": {},
     "output_type": "execute_result"
    }
   ],
   "source": [
    "h_prime"
   ]
  },
  {
   "cell_type": "markdown",
   "metadata": {
    "id": "h2Ka9knAzfoA"
   },
   "source": [
    "#### h_prime vs h"
   ]
  },
  {
   "cell_type": "code",
   "execution_count": 48,
   "metadata": {
    "id": "1BUp8fw-zfoC",
    "outputId": "1ba7b8cd-1463-4f04-904c-1a2c9bc9980d"
   },
   "outputs": [
    {
     "name": "stdout",
     "output_type": "stream",
     "text": [
      "tensor([[-0.6921,  1.1580],\n",
      "        [-0.7003,  1.2286],\n",
      "        [-0.7371,  1.2360]], grad_fn=<MmBackward0>) \n",
      " tensor([[-0.4248,  1.0535],\n",
      "        [-0.9987,  1.5516],\n",
      "        [-0.6570,  0.9492]], grad_fn=<MmBackward0>)\n"
     ]
    }
   ],
   "source": [
    "print(h_prime,\"\\n\",h)"
   ]
  },
  {
   "cell_type": "markdown",
   "metadata": {
    "id": "PKAMqO50zfoC"
   },
   "source": [
    "# Build the layer"
   ]
  },
  {
   "cell_type": "code",
   "execution_count": 54,
   "metadata": {
    "id": "C1yaW3HWzfoC"
   },
   "outputs": [],
   "source": [
    "class GATLayer(nn.Module):\n",
    "    def __init__(self, in_features, out_features, dropout, alpha):\n",
    "        super(GATLayer, self).__init__()\n",
    "        self.dropout       = dropout        # drop prob = 0.6\n",
    "        self.in_features   = in_features    # \n",
    "        self.out_features  = out_features   # \n",
    "        self.alpha         = alpha          # LeakyReLU with negative input slope, alpha = 0.2\n",
    "\n",
    "        \n",
    "        # Xavier Initialization of Weights\n",
    "        # Alternatively use weights_init to apply weights of choice \n",
    "        self.W = nn.Parameter(torch.zeros(size=(in_features, out_features)))\n",
    "        nn.init.xavier_uniform_(self.W.data, gain=1.414)\n",
    "        \n",
    "        self.a = nn.Parameter(torch.zeros(size=(2*out_features, 1)))\n",
    "        nn.init.xavier_uniform_(self.a.data, gain=1.414)\n",
    "        \n",
    "        # LeakyReLU\n",
    "        self.leakyrelu = nn.LeakyReLU(self.alpha)\n",
    "\n",
    "    def forward(self, input, adj):\n",
    "        # Linear Transformation\n",
    "        h = torch.mm(input, self.W) # matrix multiplication\n",
    "        N = h.size()[0]\n",
    "        print(N)\n",
    "\n",
    "        # Attention Mechanism\n",
    "        a_input = torch.cat([h.repeat(1, N).view(N * N, -1), h.repeat(N, 1)], dim=1).view(N, -1, 2 * self.out_features)\n",
    "        e       = self.leakyrelu(torch.matmul(a_input, self.a).squeeze(2))\n",
    "\n",
    "        # Masked Attention\n",
    "        zero_vec  = -9e-15*torch.ones_like(e)\n",
    "        attention = torch.where(adj > 0, e, zero_vec)\n",
    "        \n",
    "        attention = F.softmax(attention, dim=1)\n",
    "        attention = F.dropout(attention, self.dropout, training=self.training)\n",
    "        h_prime   = torch.matmul(attention, h)\n",
    "\n",
    "        return h_prime"
   ]
  },
  {
   "cell_type": "markdown",
   "metadata": {
    "id": "otALiZmDzfoC"
   },
   "source": [
    "# Use it"
   ]
  },
  {
   "cell_type": "code",
   "execution_count": 55,
   "metadata": {
    "id": "jSeKKDAMzfoC",
    "outputId": "7c595de1-f121-4659-d133-ef4fcd8f63da"
   },
   "outputs": [
    {
     "name": "stdout",
     "output_type": "stream",
     "text": [
      "Number of Classes in Cora: 7\n",
      "Number of Node Features in Cora: 1433\n"
     ]
    }
   ],
   "source": [
    "from torch_geometric.data import Data\n",
    "from torch_geometric.nn import GATConv\n",
    "from torch_geometric.datasets import Planetoid\n",
    "import torch_geometric.transforms as T\n",
    "\n",
    "import matplotlib.pyplot as plt\n",
    "\n",
    "name_data = 'Cora'\n",
    "dataset = Planetoid(root= '/tmp/' + name_data, name = name_data)\n",
    "dataset.transform = T.NormalizeFeatures()\n",
    "\n",
    "print(f\"Number of Classes in {name_data}:\", dataset.num_classes)\n",
    "print(f\"Number of Node Features in {name_data}:\", dataset.num_node_features)"
   ]
  },
  {
   "cell_type": "code",
   "execution_count": 56,
   "metadata": {
    "id": "IwsbjJYWzfoC",
    "outputId": "e85aff0b-fa66-4267-ab38-b8c5316caff0"
   },
   "outputs": [
    {
     "name": "stdout",
     "output_type": "stream",
     "text": [
      "tensor(1.9474, grad_fn=<NllLossBackward0>)\n",
      "tensor(0.6568, grad_fn=<NllLossBackward0>)\n",
      "tensor(0.6009, grad_fn=<NllLossBackward0>)\n",
      "tensor(0.5582, grad_fn=<NllLossBackward0>)\n",
      "tensor(0.5205, grad_fn=<NllLossBackward0>)\n"
     ]
    }
   ],
   "source": [
    "class GAT(torch.nn.Module):\n",
    "    def __init__(self):\n",
    "        super(GAT, self).__init__()\n",
    "        self.hid = 8\n",
    "        self.in_head = 8\n",
    "        self.out_head = 1\n",
    "        \n",
    "        \n",
    "        self.conv1 = GATConv(dataset.num_features, self.hid, heads=self.in_head, dropout=0.6)\n",
    "        self.conv2 = GATConv(self.hid*self.in_head, dataset.num_classes, concat=False,\n",
    "                             heads=self.out_head, dropout=0.6)\n",
    "\n",
    "    def forward(self, data):\n",
    "        x, edge_index = data.x, data.edge_index\n",
    "                \n",
    "        x = F.dropout(x, p=0.6, training=self.training)\n",
    "        x = self.conv1(x, edge_index)\n",
    "        x = F.elu(x) # exponential linear unit\n",
    "        x = F.dropout(x, p=0.6, training=self.training)\n",
    "        x = self.conv2(x, edge_index)\n",
    "        \n",
    "        return F.log_softmax(x, dim=1)\n",
    "    \n",
    "    \n",
    "    \n",
    "device = torch.device('cuda' if torch.cuda.is_available() else 'cpu')\n",
    "device = \"cpu\"\n",
    "\n",
    "model = GAT().to(device)\n",
    "data = dataset[0].to(device)\n",
    "\n",
    "\n",
    "optimizer = torch.optim.Adam(model.parameters(), lr=0.005, weight_decay=5e-4)\n",
    "\n",
    "model.train()\n",
    "for epoch in range(1000):\n",
    "    model.train()\n",
    "    optimizer.zero_grad()\n",
    "    out = model(data)\n",
    "    loss = F.nll_loss(out[data.train_mask], data.y[data.train_mask])\n",
    "    \n",
    "    if epoch%200 == 0:\n",
    "        print(loss)\n",
    "    \n",
    "    loss.backward()\n",
    "    optimizer.step()\n",
    "    \n"
   ]
  },
  {
   "cell_type": "code",
   "execution_count": 52,
   "metadata": {
    "id": "wFCRR_MtzfoC",
    "outputId": "aadf108e-d617-40bd-e676-c3386c2aa780"
   },
   "outputs": [
    {
     "name": "stdout",
     "output_type": "stream",
     "text": [
      "Accuracy: 0.8210\n"
     ]
    }
   ],
   "source": [
    "model.eval()\n",
    "_, pred = model(data).max(dim=1)\n",
    "correct = float(pred[data.test_mask].eq(data.y[data.test_mask]).sum().item())\n",
    "acc = correct / data.test_mask.sum().item()\n",
    "print('Accuracy: {:.4f}'.format(acc))"
   ]
  }
 ],
 "metadata": {
  "kernelspec": {
   "display_name": "Python 3",
   "language": "python",
   "name": "python3"
  },
  "language_info": {
   "codemirror_mode": {
    "name": "ipython",
    "version": 3
   },
   "file_extension": ".py",
   "mimetype": "text/x-python",
   "name": "python",
   "nbconvert_exporter": "python",
   "pygments_lexer": "ipython3",
   "version": "3.9.12"
  },
  "colab": {
   "provenance": []
  }
 },
 "nbformat": 4,
 "nbformat_minor": 0
}
